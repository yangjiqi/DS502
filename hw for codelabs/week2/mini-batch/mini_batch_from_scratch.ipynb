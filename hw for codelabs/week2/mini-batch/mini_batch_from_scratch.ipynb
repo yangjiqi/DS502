{
 "cells": [
  {
   "cell_type": "code",
   "execution_count": 17,
   "metadata": {},
   "outputs": [
    {
     "name": "stdout",
     "output_type": "stream",
     "text": [
      "('w =', array([ 5.71086919,  1.87259335]))\n",
      "('e =', array([ 5.7108593 ,  1.87259483]))\n",
      "loop count = 4852 \tw:[5.710869, 1.872593]\n",
      "intercept = 5.71919477408 slope = 1.87100184202\n"
     ]
    },
    {
     "data": {
      "image/png": "[encoded data removed]",
      "text/plain": [
       "<matplotlib.figure.Figure at 0x111600350>"
      ]
     },
     "metadata": {},
     "output_type": "display_data"
    },
    {
     "data": {
      "image/png": "[encoded data removed]",
      "text/plain": [
       "<matplotlib.figure.Figure at 0x11cc21290>"
      ]
     },
     "metadata": {},
     "output_type": "display_data"
    }
   ],
   "source": [
    "# coding=utf-8\n",
    "import numpy as np\n",
    "from scipy import stats\n",
    "import matplotlib.pyplot as plt\n",
    "\n",
    "# 构造训练数据\n",
    "x = np.arange(0., 10., 0.2)\n",
    "m = len(x)  # 训练数据点数目\n",
    "x0 = np.full(m, 1.0)\n",
    "input_data = np.vstack([x0, x]).T  # 将偏置b作为权向量的第一个分量\n",
    "target_data = 2 * x + 5 + np.random.randn(m)\n",
    "\n",
    "# 两种终止条件\n",
    "loop_max = 10000  # 最大迭代次数(防止死循环)\n",
    "epsilon = 1e-5\n",
    "\n",
    "# 初始化权值\n",
    "np.random.seed(0)\n",
    "w = np.random.randn(2)\n",
    "# w = np.zeros(2)\n",
    "\n",
    "alpha = 0.001  # 步长(注意取值过大会导致振荡,过小收敛速度变慢)\n",
    "diff = 0.\n",
    "error = np.zeros(2)\n",
    "count = 0  # 循环次数\n",
    "finish = 0  # 终止标志\n",
    "error_list = []\n",
    "batch_size = 10\n",
    "n_samples = input_data.shape[0]  # rows -> cases, cols -> features\n",
    "\n",
    "# -----------------------------------------------批量梯度下降法-----------------------------------------------------------\n",
    "while count < loop_max:\n",
    "    count += 1\n",
    "    \n",
    "#     permutation = np.random.permutation(input_data.shape[0])\n",
    "#     input_data = input_data[permutation, :]\n",
    "#     target_data = target_data[permutation] # x already in order, cannot be shuffled\n",
    "    \n",
    "        \n",
    "    # 标准梯度下降是在权值更新前对所有样例汇总误差，而随机梯度下降的权值是通过考查某个训练样例来更新的\n",
    "    # 在标准梯度下降中，权值更新的每一步对多个样例求和，需要更多的计算\n",
    "   \n",
    "    for i in xrange(0, n_samples, batch_size):\n",
    "        sum_m = np.zeros(2)\n",
    "        for j in xrange(batch_size):\n",
    "            dif = (np.dot(w, input_data[i + j]) - target_data[i + j]) * input_data[i + j]\n",
    "            \n",
    "            sum_m = sum_m + dif  # 当alpha取值过大时,sum_m会在迭代过程中会溢出?????????\n",
    "        w = w - alpha * sum_m * 1./ batch_size  # 注意步长alpha的取值,过大会导致振荡\n",
    "        error_list.append(np.sum(sum_m)**2)\n",
    "        # 判断是否已收敛\n",
    "\n",
    "    if np.linalg.norm(w - error) < epsilon:\n",
    "        print('w =', w)\n",
    "        print('e =', error)\n",
    "        finish = 1\n",
    "        break\n",
    "    else:\n",
    "        error = w\n",
    "print 'loop count = %d' % count, '\\tw:[%f, %f]' % (w[0], w[1])\n",
    "\n",
    "# ----------------------------------------------------------------------------------------------------------------------\n",
    "\n",
    "\n",
    "# check with scipy linear regression\n",
    "slope, intercept, r_value, p_value, slope_std_error = stats.linregress(x, target_data)\n",
    "print 'intercept = %s slope = %s' % (intercept, slope)\n",
    "\n",
    "plt.plot(range(len(error_list[0:100])), error_list[0:100])\n",
    "plt.show()\n",
    "\n",
    "plt.plot(x, target_data, 'k+')\n",
    "plt.plot(x, w[1] * x + w[0], 'r')\n",
    "plt.show()"
   ]
  },
  {
   "cell_type": "code",
   "execution_count": null,
   "metadata": {
    "collapsed": true
   },
   "outputs": [],
   "source": []
  },
  {
   "cell_type": "code",
   "execution_count": null,
   "metadata": {
    "collapsed": true
   },
   "outputs": [],
   "source": []
  },
  {
   "cell_type": "code",
   "execution_count": null,
   "metadata": {
    "collapsed": true
   },
   "outputs": [],
   "source": []
  },
  {
   "cell_type": "code",
   "execution_count": null,
   "metadata": {
    "collapsed": true
   },
   "outputs": [],
   "source": []
  },
  {
   "cell_type": "code",
   "execution_count": null,
   "metadata": {
    "collapsed": true
   },
   "outputs": [],
   "source": []
  },
  {
   "cell_type": "code",
   "execution_count": null,
   "metadata": {
    "collapsed": true
   },
   "outputs": [],
   "source": []
  },
  {
   "cell_type": "code",
   "execution_count": null,
   "metadata": {
    "collapsed": true
   },
   "outputs": [],
   "source": []
  },
  {
   "cell_type": "code",
   "execution_count": null,
   "metadata": {
    "collapsed": true
   },
   "outputs": [],
   "source": []
  },
  {
   "cell_type": "code",
   "execution_count": null,
   "metadata": {
    "collapsed": true
   },
   "outputs": [],
   "source": []
  },
  {
   "cell_type": "code",
   "execution_count": null,
   "metadata": {
    "collapsed": true
   },
   "outputs": [],
   "source": []
  },
  {
   "cell_type": "code",
   "execution_count": null,
   "metadata": {
    "collapsed": true
   },
   "outputs": [],
   "source": []
  },
  {
   "cell_type": "code",
   "execution_count": null,
   "metadata": {
    "collapsed": true
   },
   "outputs": [],
   "source": []
  },
  {
   "cell_type": "code",
   "execution_count": null,
   "metadata": {
    "collapsed": true
   },
   "outputs": [],
   "source": []
  },
  {
   "cell_type": "code",
   "execution_count": null,
   "metadata": {
    "collapsed": true
   },
   "outputs": [],
   "source": []
  },
  {
   "cell_type": "code",
   "execution_count": null,
   "metadata": {
    "collapsed": true
   },
   "outputs": [],
   "source": []
  },
  {
   "cell_type": "code",
   "execution_count": null,
   "metadata": {
    "collapsed": true
   },
   "outputs": [],
   "source": []
  },
  {
   "cell_type": "code",
   "execution_count": null,
   "metadata": {
    "collapsed": true
   },
   "outputs": [],
   "source": []
  },
  {
   "cell_type": "code",
   "execution_count": null,
   "metadata": {
    "collapsed": true
   },
   "outputs": [],
   "source": []
  },
  {
   "cell_type": "code",
   "execution_count": null,
   "metadata": {
    "collapsed": true
   },
   "outputs": [],
   "source": []
  },
  {
   "cell_type": "code",
   "execution_count": null,
   "metadata": {
    "collapsed": true
   },
   "outputs": [],
   "source": []
  },
  {
   "cell_type": "code",
   "execution_count": null,
   "metadata": {
    "collapsed": true
   },
   "outputs": [],
   "source": []
  },
  {
   "cell_type": "code",
   "execution_count": null,
   "metadata": {
    "collapsed": true
   },
   "outputs": [],
   "source": []
  }
 ],
 "metadata": {
  "kernelspec": {
   "display_name": "Python 2",
   "language": "python",
   "name": "python2"
  },
  "language_info": {
   "codemirror_mode": {
    "name": "ipython",
    "version": 2
   },
   "file_extension": ".py",
   "mimetype": "text/x-python",
   "name": "python",
   "nbconvert_exporter": "python",
   "pygments_lexer": "ipython2",
   "version": "2.7.13"
  }
 },
 "nbformat": 4,
 "nbformat_minor": 2
}
