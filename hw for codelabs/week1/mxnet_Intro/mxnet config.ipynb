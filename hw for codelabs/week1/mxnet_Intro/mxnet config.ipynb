{
 "cells": [
  {
   "cell_type": "markdown",
   "metadata": {},
   "source": [
    "# Tutorial MXNet"
   ]
  },
  {
   "cell_type": "markdown",
   "metadata": {},
   "source": [
    "Install\n",
    "http://mxnet.io/"
   ]
  },
  {
   "cell_type": "markdown",
   "metadata": {},
   "source": [
    "## Install python, virtualenv\n",
    "\n",
    "### If you use Ubuntu, Great!\n",
    "\n",
    "sudo apt-get install -y python-dev python-virtualenv\n",
    "\n",
    "source .bashrc \n",
    "\n",
    "### If others\n",
    "\n",
    "pip install virtualenv virtualenvwrapper\n",
    "\n",
    "source .bashrc \n",
    "\n",
    "## Create virtual environment for MXNet\n",
    "\n",
    "virtualenv ~/env/mxnet\n",
    "\n",
    "source ~/env/mxnet/bin/activate\n",
    "\n",
    "pip list \n",
    "\n",
    "pip help\n",
    "\n",
    "## Install mxnet you like \n",
    "\n",
    "pip install --upgrade pip \n",
    "\n",
    "pip install mxnet-mkl (advance cpu) OR\n",
    "\n",
    "pip install mxnet-cu80 (GPU with CUDA 8.0)OR\n",
    "\n",
    "pip install mxnet-cu75 (GPU with CUDA7.5)OR\n",
    "\n",
    "pip install mxnet (any cpu machine)\n",
    "\n",
    "## Install other packages\n",
    "\n",
    "pip install scipy matplotlib opencv-python ipython jupyter\n",
    "\n",
    "## Open Jupyter notebook\n",
    "\n",
    "jupyter notebook\n"
   ]
  },
  {
   "cell_type": "markdown",
   "metadata": {
    "collapsed": true
   },
   "source": [
    "# Others"
   ]
  },
  {
   "cell_type": "code",
   "execution_count": null,
   "metadata": {
    "collapsed": true
   },
   "outputs": [],
   "source": [
    "pip install tensorboard\n",
    "pip install requests\n",
    "pip install graphviz"
   ]
  }
 ],
 "metadata": {
  "kernelspec": {
   "display_name": "Python 2",
   "language": "python",
   "name": "python2"
  },
  "language_info": {
   "codemirror_mode": {
    "name": "ipython",
    "version": 2
   },
   "file_extension": ".py",
   "mimetype": "text/x-python",
   "name": "python",
   "nbconvert_exporter": "python",
   "pygments_lexer": "ipython2",
   "version": "2.7.13"
  }
 },
 "nbformat": 4,
 "nbformat_minor": 2
}
